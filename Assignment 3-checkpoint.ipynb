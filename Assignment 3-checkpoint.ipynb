{
 "cells": [
  {
   "cell_type": "markdown",
   "metadata": {},
   "source": [
    "# Question 1"
   ]
  },
  {
   "cell_type": "code",
   "execution_count": 2,
   "metadata": {},
   "outputs": [
    {
     "name": "stdout",
     "output_type": "stream",
     "text": [
      "\t\t Calculator\n",
      "Enter Value 1\n",
      "55\n",
      "Enter Value 2\n",
      "88\n",
      "Choose any Option To Perform an Operation \n",
      "1.Addition\n",
      "2.Substraction\n",
      "3.Multiplication\n",
      "4.Division\n",
      "5.Power\n",
      "2\n",
      "Your Substraction is: -33\n"
     ]
    }
   ],
   "source": [
    "print(\"\\t\\t Calculator\")\n",
    "vl1 = int(input(\"Enter Value 1\\n\"))\n",
    "vl2 = int(input(\"Enter Value 2\\n\"))\n",
    "opt = int(input(\"Choose any Option To Perform an Operation \\n1.Addition\\n2.Substraction\\n3.Multiplication\\n4.Division\\n5.Power\\n\"))\n",
    "\n",
    "if (opt == 1):\n",
    "    print(\"Your Addition is: \" + str(vl1 + vl2))\n",
    "elif (opt == 2):\n",
    "    print(\"Your Substraction is: \" + str(vl1 - vl2))\n",
    "elif (opt == 3):\n",
    "    print(\"Your Multiplication is: \" + str(vl1 * vl2))\n",
    "elif (opt == 4):\n",
    "    print(\"Your Division  is: \" + str(vl1 / vl2))\n",
    "\n",
    "elif (opt == 5):\n",
    "    x = int(input(\"Enter which value power do you want\\n1.value \\n2.Value2 \"))\n",
    "    if (x == 1):\n",
    "        c = int(input(\"write power of value 1\"))\n",
    "        print(\"Power of value 1 = \" + str(vl1 ** c))\n",
    "\n",
    "    elif (x == 2):\n",
    "        d = int(input(\"write power of value 2\"))\n",
    "        print(\"Power of value 2= \" + str(vl2 ** d))\n",
    "\n",
    "\n",
    "\n"
   ]
  },
  {
   "cell_type": "markdown",
   "metadata": {},
   "source": [
    "# Question 2 "
   ]
  },
  {
   "cell_type": "code",
   "execution_count": 3,
   "metadata": {},
   "outputs": [
    {
     "name": "stdout",
     "output_type": "stream",
     "text": [
      "6 is a number\n",
      "7 is a number\n",
      "88 is not a number\n",
      "Talha is not a number\n",
      "54.3 is a number\n"
     ]
    }
   ],
   "source": [
    "a_list=[6,7,\"88\",\"Talha\",54.3]\n",
    "for x in a_list:\n",
    "    if (isinstance(x, int) or isinstance(x, float)):\n",
    "        print(x,\"is a number\")\n",
    "    else:\n",
    "        print(x,\"is not a number\")"
   ]
  },
  {
   "cell_type": "markdown",
   "metadata": {},
   "source": [
    "# Question 3"
   ]
  },
  {
   "cell_type": "code",
   "execution_count": 4,
   "metadata": {},
   "outputs": [
    {
     "name": "stdout",
     "output_type": "stream",
     "text": [
      "{'name': 'Talha', 'age': 19, 'Sex': 'Male'}\n",
      "{'name': 'Talha', 'age': 19, 'Sex': 'Male', 'Father_name': 'Mola Bux'}\n"
     ]
    }
   ],
   "source": [
    "a_dict= {\"name\":\"Talha\",\"age\":19,\"Sex\":\"Male\"}\n",
    "print(a_dict)\n",
    "a_dict.update({\"Father_name\":\"Mola Bux\"})\n",
    "print(a_dict)"
   ]
  },
  {
   "cell_type": "markdown",
   "metadata": {},
   "source": [
    "# Question 4"
   ]
  },
  {
   "cell_type": "code",
   "execution_count": 5,
   "metadata": {},
   "outputs": [
    {
     "name": "stdout",
     "output_type": "stream",
     "text": [
      "-1\n"
     ]
    }
   ],
   "source": [
    "num_dict={\"year\":1,\"month\":5,\"week\":2,\"day\":-9}\n",
    "sum=0\n",
    "for z in num_dict.values():\n",
    "    sum+=z\n",
    "print(sum)"
   ]
  },
  {
   "cell_type": "markdown",
   "metadata": {},
   "source": [
    "# Question 5"
   ]
  },
  {
   "cell_type": "code",
   "execution_count": 7,
   "metadata": {},
   "outputs": [
    {
     "name": "stdout",
     "output_type": "stream",
     "text": [
      "1 is repeated 4 times\n",
      "2 is repeated 2 times\n",
      "2 is repeated 2 times\n",
      "1 is repeated 4 times\n",
      "5 is repeated 3 times\n",
      "5 is repeated 3 times\n",
      "4 is repeated 2 times\n",
      "1 is repeated 4 times\n",
      "1 is repeated 4 times\n",
      "5 is repeated 3 times\n",
      "4 is repeated 2 times\n"
     ]
    }
   ],
   "source": [
    "c = [1,2,3,2,1,5,5,6,4,1,8,1,5,4]\n",
    "c_list=[]\n",
    "for num in c:\n",
    "    if num not in a_list:\n",
    "        c_list.append(num)\n",
    "for x in c_list:\n",
    "    if c.count(x)>=2:\n",
    "        print(x,\"is repeated\",c.count(x),\"times\")"
   ]
  },
  {
   "cell_type": "markdown",
   "metadata": {},
   "source": [
    "# Question 6"
   ]
  },
  {
   "cell_type": "code",
   "execution_count": 9,
   "metadata": {},
   "outputs": [
    {
     "name": "stdout",
     "output_type": "stream",
     "text": [
      "Key is present in the dictionary\n",
      "Key is not present in the dictionary\n"
     ]
    }
   ],
   "source": [
    "d = {\"Talha\": 10, \"Shakoor\": 20, \"Ali\": 30, \"lion\": 40, \"shark\": 50, \"ironman\": 60}\n",
    "def is_key_present(x):\n",
    "  if x in d:\n",
    "      print('Key is present in the dictionary')\n",
    "  else:\n",
    "      print('Key is not present in the dictionary')\n",
    "is_key_present('Ali') #for dynamic programming an input can be used as an arguement\n",
    "is_key_present('No') "
   ]
  },
  {
   "cell_type": "code",
   "execution_count": null,
   "metadata": {},
   "outputs": [],
   "source": []
  }
 ],
 "metadata": {
  "kernelspec": {
   "display_name": "Python 3",
   "language": "python",
   "name": "python3"
  },
  "language_info": {
   "codemirror_mode": {
    "name": "ipython",
    "version": 3
   },
   "file_extension": ".py",
   "mimetype": "text/x-python",
   "name": "python",
   "nbconvert_exporter": "python",
   "pygments_lexer": "ipython3",
   "version": "3.7.3"
  }
 },
 "nbformat": 4,
 "nbformat_minor": 2
}
