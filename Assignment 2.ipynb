{
 "cells": [
  {
   "cell_type": "code",
   "execution_count": 22,
   "metadata": {},
   "outputs": [
    {
     "name": "stdout",
     "output_type": "stream",
     "text": [
      "Enter your English marks: 78\n",
      "Enter your Maths marks: 78\n",
      "Enter your Physics marks: 6\n",
      "Enter your Chemistry marks: 7\n",
      "Enter your Urdu marks: 78\n",
      "You got A Grade in English\n",
      "You got A Grade in Maths\n",
      "You failed in Physics\n",
      "You failed in Chemistry\n",
      "You got A Grade in Urdu\n",
      "Your Perctage is:  49.4\n"
     ]
    }
   ],
   "source": [
    "#1\n",
    "Eng = int(input(\"Enter your English marks: \"))\n",
    "Maths = int(input(\"Enter your Maths marks: \"))\n",
    "Phys = int(input(\"Enter your Physics marks: \"))\n",
    "Chem = int(input(\"Enter your Chemistry marks: \"))\n",
    "Urdu = int(input(\"Enter your Urdu marks: \"))\n",
    "if Eng>=80:\n",
    "    print(\"You got A+ Grade in English\")\n",
    "elif Eng>=70:\n",
    "    print(\"You got A Grade in English\")\n",
    "elif Eng>=60:\n",
    "    print(\"You got B Grade in English\")\n",
    "elif Eng>=50:\n",
    "    print(\"You got C Grade in English\")\n",
    "else:\n",
    "    print(\"You failed in English\")\n",
    "if Maths>=80:\n",
    "    print(\"You got A+ Grade in Maths\")\n",
    "elif Maths>=70:\n",
    "    print(\"You got A Grade in Maths\")\n",
    "elif Maths>=60:\n",
    "    print(\"You got B Grade in Maths\")\n",
    "elif Maths>=50:\n",
    "    print(\"You got C Grade in Maths\")\n",
    "else:\n",
    "    print(\"You failed in Maths\")\n",
    "if Phys>=80:\n",
    "    print(\"You got A+ Grade in Physics\")\n",
    "elif Phys>=70:\n",
    "    print(\"You got A Grade in Physics\")\n",
    "elif Phys>=60:\n",
    "    print(\"You got B Grade in Physics\")\n",
    "elif Phys>=50:\n",
    "    print(\"You got C Grade in Physics\")\n",
    "else:\n",
    "    print(\"You failed in Physics\")\n",
    "if Chem>=80:\n",
    "    print(\"You got A+ Grade in Chemistry\")\n",
    "elif Chem>=70:\n",
    "    print(\"You got A Grade in Chemistry\")\n",
    "elif Chem>=60:\n",
    "    print(\"You got B Grade in Chemistry\")\n",
    "elif Chem>=50:\n",
    "    print(\"You got C Grade in Chemistry\")\n",
    "else:\n",
    "    print(\"You failed in Chemistry\")\n",
    "if Urdu>=80:\n",
    "    print(\"You got A+ Grade in Urdu\")\n",
    "elif Urdu>=70:\n",
    "    print(\"You got A Grade in Urdu\")\n",
    "elif Urdu>=60:\n",
    "    prints(\"You got B Grade in Urdu\")\n",
    "elif Udru>=50:\n",
    "    print(\"You got C Grade in Udru\")\n",
    "else:\n",
    "    print(\"You failed in Urdu\")\n",
    "print(\"Your Perctage is: \", (Eng+Maths+Phys+Chem+Urdu)/5)\n"
   ]
  },
  {
   "cell_type": "code",
   "execution_count": 2,
   "metadata": {},
   "outputs": [
    {
     "name": "stdout",
     "output_type": "stream",
     "text": [
      "Enter a number: 44\n",
      "Your number is Even.\n"
     ]
    }
   ],
   "source": [
    "#2\n",
    "num = int(input(\"Enter a number: \"))\n",
    "if num %2 ==0:\n",
    "    print(\"Your number is Even.\")\n",
    "else:\n",
    "    print(\"Your number is Odd.\")"
   ]
  },
  {
   "cell_type": "code",
   "execution_count": 15,
   "metadata": {},
   "outputs": [
    {
     "name": "stdout",
     "output_type": "stream",
     "text": [
      "8\n"
     ]
    }
   ],
   "source": [
    "#3\n",
    "print(len([23,45,65,67,34,43,56,49]))"
   ]
  },
  {
   "cell_type": "code",
   "execution_count": 17,
   "metadata": {},
   "outputs": [
    {
     "name": "stdout",
     "output_type": "stream",
     "text": [
      "How many numbers do you want to add to the list: 5\n",
      "Enter a number: 23\n",
      "Enter a number: 34\n",
      "Enter a number: 45\n",
      "Enter a number: 56\n",
      "Enter a number: 67\n",
      "Sum of all numbers in the list is : 225\n"
     ]
    }
   ],
   "source": [
    "#4\n",
    "numbers = []\n",
    "num = int(input(\"How many numbers do you want to add to the list: \"))\n",
    "for x in range(num):\n",
    "    lnum = int(input(\"Enter a number: \"))\n",
    "    numbers.append(lnum)\n",
    "print(\"Sum of all numbers in the list is :\", sum(numbers))"
   ]
  },
  {
   "cell_type": "code",
   "execution_count": 18,
   "metadata": {},
   "outputs": [
    {
     "name": "stdout",
     "output_type": "stream",
     "text": [
      "67\n"
     ]
    }
   ],
   "source": [
    "#5\n",
    "print( max([23, 45, 65, 67, 34, 43, 56, 49]) )"
   ]
  },
  {
   "cell_type": "code",
   "execution_count": 19,
   "metadata": {},
   "outputs": [
    {
     "name": "stdout",
     "output_type": "stream",
     "text": [
      "1\n",
      "1\n",
      "2\n",
      "3\n"
     ]
    }
   ],
   "source": [
    "#6\n",
    "a = [1, 1, 2, 3, 5, 8, 13, 21, 34, 55, 89]\n",
    "for i in a:\n",
    "    if i < 5:\n",
    "        print(i)"
   ]
  }
 ],
 "metadata": {
  "kernelspec": {
   "display_name": "Python 3",
   "language": "python",
   "name": "python3"
  },
  "language_info": {
   "codemirror_mode": {
    "name": "ipython",
    "version": 3
   },
   "file_extension": ".py",
   "mimetype": "text/x-python",
   "name": "python",
   "nbconvert_exporter": "python",
   "pygments_lexer": "ipython3",
   "version": "3.7.3"
  }
 },
 "nbformat": 4,
 "nbformat_minor": 2
}
